{
 "cells": [
  {
   "cell_type": "markdown",
   "id": "69b026ce",
   "metadata": {},
   "source": [
    "# Генерация числа"
   ]
  },
  {
   "cell_type": "code",
   "execution_count": 1,
   "id": "a8d637cb",
   "metadata": {},
   "outputs": [
    {
     "data": {
      "text/plain": [
       "'2.8.0'"
      ]
     },
     "execution_count": 1,
     "metadata": {},
     "output_type": "execute_result"
    }
   ],
   "source": [
    "from IPython import display\n",
    "import numpy as np\n",
    "import matplotlib.pyplot as plt\n",
    "\n",
    "import tensorflow as tf\n",
    "from tensorflow.keras import layers\n",
    "tf.__version__"
   ]
  },
  {
   "cell_type": "markdown",
   "id": "7855535f",
   "metadata": {},
   "source": [
    "# Загрузка и предобработка"
   ]
  },
  {
   "cell_type": "code",
   "execution_count": 2,
   "id": "3e378f3d",
   "metadata": {},
   "outputs": [],
   "source": [
    "mnist = tf.keras.datasets.mnist\n",
    "\n",
    "(x_train, y_train), (x_test, y_test) = mnist.load_data()\n",
    "\n",
    "x_train, x_test = x_train / 255, x_test / 255\n",
    "x_train, x_test = x_train[..., None], x_test[..., None]"
   ]
  },
  {
   "cell_type": "code",
   "execution_count": 3,
   "id": "741ffaef",
   "metadata": {},
   "outputs": [],
   "source": [
    "def one_hot(arr):\n",
    "    res = np.zeros((arr.shape[0], 10))\n",
    "    for i, n in enumerate(arr):\n",
    "        res[i, n] = 1\n",
    "    return res\n",
    "\n",
    "y_train_one_hot = one_hot(y_train)\n",
    "y_test_one_hot = one_hot(y_test)\n",
    "\n",
    "train_ds = tf.data.Dataset.from_tensor_slices((x_train, y_train_one_hot)).shuffle(10_000).batch(32)\n",
    "test_ds = tf.data.Dataset.from_tensor_slices((x_test, y_test_one_hot)).batch(32)\n",
    "\n",
    "num = np.array([0, 1, 2, 3, 4, 5, 6, 7, 8, 9])\n",
    "num_onehot = one_hot(num)"
   ]
  },
  {
   "cell_type": "markdown",
   "id": "c77fcd7a",
   "metadata": {},
   "source": [
    "# Модель"
   ]
  },
  {
   "cell_type": "code",
   "execution_count": 4,
   "id": "d389f07a",
   "metadata": {},
   "outputs": [],
   "source": [
    "class GenModel(tf.keras.Model):\n",
    "    \n",
    "    def __init__(self):\n",
    "        super().__init__()\n",
    "        \n",
    "        self.dense = layers.Dense(784, activation=\"relu\")\n",
    "        self.reshape = layers.Reshape((28, 28, 1))\n",
    "        \n",
    "        self.conv2d5 = layers.Conv2D(256, kernel_size=(3, 3), strides=(1, 1), padding=\"same\", activation=\"relu\")\n",
    "        self.drop5 = layers.Dropout(0.2)\n",
    "        \n",
    "        self.conv2d5 = layers.Conv2D(128, kernel_size=(3, 3), strides=(1, 1), padding=\"same\", activation=\"relu\")\n",
    "        self.drop5 = layers.Dropout(0.2)\n",
    "        \n",
    "        self.conv2d4 = layers.Conv2D(64, kernel_size=(3, 3), strides=(1, 1), padding=\"same\", activation=\"relu\")\n",
    "        self.drop4 = layers.Dropout(0.2)\n",
    "        \n",
    "        self.conv2d3 = layers.Conv2D(32, kernel_size=(3, 3), strides=(1, 1), padding=\"same\", activation=\"relu\")\n",
    "        self.drop3 = layers.Dropout(0.2)\n",
    "        \n",
    "        self.conv2d2 = layers.Conv2D(16, kernel_size=(3, 3), strides=(1, 1), padding=\"same\", activation=\"relu\")\n",
    "        self.drop2 = layers.Dropout(0.2)\n",
    "        \n",
    "        self.conv2d1 = layers.Conv2D(8, kernel_size=(3, 3), strides=(1, 1), padding=\"same\", activation=\"relu\")\n",
    "        self.drop1 = layers.Dropout(0.2)\n",
    "        \n",
    "        self.conv2dEnd = layers.Conv2D(1, kernel_size=(3, 3), strides=(1, 1), padding=\"same\", activation=\"tanh\")\n",
    "\n",
    "    def call(self, x):\n",
    "        \n",
    "        x = self.dense(x)\n",
    "        x = self.reshape(x)\n",
    "        \n",
    "        x = self.conv2d5(x)\n",
    "        x = self.drop5(x)\n",
    "        \n",
    "        x = self.conv2d4(x)\n",
    "        x = self.drop4(x)\n",
    "        \n",
    "        x = self.conv2d3(x)\n",
    "        x = self.drop3(x)\n",
    "        \n",
    "        x = self.conv2d2(x)\n",
    "        x = self.drop2(x)\n",
    "        \n",
    "        x = self.conv2d1(x)\n",
    "        x = self.drop1(x)\n",
    "        \n",
    "        x = self.conv2dEnd(x)\n",
    "        \n",
    "        return x"
   ]
  },
  {
   "cell_type": "code",
   "execution_count": 5,
   "id": "d1d63a0d",
   "metadata": {},
   "outputs": [],
   "source": [
    "genModel = GenModel()\n",
    "lossBinary = tf.keras.losses.BinaryCrossentropy(from_logits=False)\n",
    "optimizerAdam = tf.keras.optimizers.Adam()\n",
    "\n",
    "train_loss = tf.keras.metrics.Mean(name=\"train_loss\")\n",
    "train_accuracy = tf.keras.metrics.BinaryCrossentropy(name=\"train_accuracy\")\n",
    "\n",
    "test_loss = tf.keras.metrics.Mean(name=\"test_loss\")\n",
    "test_accuracy = tf.keras.metrics.BinaryCrossentropy(name=\"test_accuracy\")"
   ]
  },
  {
   "cell_type": "markdown",
   "id": "ebf68ae4",
   "metadata": {},
   "source": [
    "# Тренировка и Предикт"
   ]
  },
  {
   "cell_type": "code",
   "execution_count": 6,
   "id": "6e50cdfa",
   "metadata": {},
   "outputs": [
    {
     "data": {
      "image/png": "[encoded data removed]",
      "text/plain": [
       "<Figure size 1008x432 with 10 Axes>"
      ]
     },
     "metadata": {
      "needs_background": "light"
     },
     "output_type": "display_data"
    },
    {
     "name": "stdout",
     "output_type": "stream",
     "text": [
      "Epoch 1\n",
      " Train Loss: 0.23300042748451233 Train Accuracy: 0.2330007404088974\n",
      "\n",
      "Wall time: 14min 45s\n"
     ]
    }
   ],
   "source": [
    "%%time\n",
    "\n",
    "EPOCHS = 1\n",
    "\n",
    "for epoch in range(EPOCHS):\n",
    "    \n",
    "    train_loss.reset_states()\n",
    "    train_accuracy.reset_states()\n",
    "    test_loss.reset_states()\n",
    "    test_accuracy.reset_states()\n",
    "    \n",
    "    for train_imgs, train_lbls in train_ds:\n",
    "        \n",
    "        with tf.GradientTape() as tape:\n",
    "            pred_imgs = genModel(train_lbls, training=True)\n",
    "            loss_value = lossBinary(train_imgs, pred_imgs)\n",
    "            \n",
    "        grad = tape.gradient(loss_value, genModel.trainable_variables)\n",
    "        optimizerAdam.apply_gradients(zip(grad, genModel.trainable_variables))\n",
    "        \n",
    "        train_loss(loss_value)\n",
    "        train_accuracy(train_imgs, pred_imgs)\n",
    "\n",
    "        display.clear_output(wait=True)\n",
    "        gen_imgs = genModel(num_onehot, training=False).numpy()\n",
    "\n",
    "        fig, ax = plt.subplots(2, 5, figsize=(14, 6))\n",
    "        for i, img in enumerate(gen_imgs):\n",
    "            i, j = i // 5, i % 5\n",
    "            ax[i, j].imshow(img, cmap=\"gray\")\n",
    "            ax[i, j].axis(\"off\")\n",
    "        plt.show()\n",
    "        \n",
    "    print(\n",
    "        f'Epoch {epoch + 1}\\n',\n",
    "        f'Train Loss: {train_loss.result().numpy()}',\n",
    "        f'Train Accuracy: {train_accuracy.result().numpy()}\\n',\n",
    "    )"
   ]
  }
 ],
 "metadata": {
  "kernelspec": {
   "display_name": "Python 3 (ipykernel)",
   "language": "python",
   "name": "python3"
  },
  "language_info": {
   "codemirror_mode": {
    "name": "ipython",
    "version": 3
   },
   "file_extension": ".py",
   "mimetype": "text/x-python",
   "name": "python",
   "nbconvert_exporter": "python",
   "pygments_lexer": "ipython3",
   "version": "3.9.7"
  }
 },
 "nbformat": 4,
 "nbformat_minor": 5
}
